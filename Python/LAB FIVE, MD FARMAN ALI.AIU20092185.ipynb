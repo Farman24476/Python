{
 "cells": [
  {
   "cell_type": "code",
   "execution_count": 13,
   "id": "7306b32e",
   "metadata": {},
   "outputs": [
    {
     "name": "stdout",
     "output_type": "stream",
     "text": [
      "A B C D F "
     ]
    }
   ],
   "source": [
    "graph = {\n",
    "'A' : ['B','C'],\n",
    "'B' : ['D', 'E'],\n",
    "'C' : ['F', 'G'],\n",
    "'D' : [],\n",
    "'E' : [],\n",
    "'F' : [],\n",
    "'G' : []\n",
    "}\n",
    "visited = []\n",
    "queue = []\n",
    "goal = 'C'\n",
    "#define the bfs search alogorithm funvtion\n",
    "def bfs(visited, graph, node):#argument node for the start node\n",
    "    visited.append(node) #append starting node for visited\n",
    "    queue.append(node)\n",
    "    while queue:\n",
    "        s = queue.pop(0)\n",
    "        print (s, end = \" \")\n",
    "        for neighbour in graph[s]:\n",
    "            if neighbour not in visited:\n",
    "                visited.append(neighbour)\n",
    "                queue.append(neighbour)\n",
    "                if goal in visited:\n",
    "                    break\n",
    "bfs(visited, graph, 'A') #call the function bfs with those aruments function"
   ]
  },
  {
   "cell_type": "code",
   "execution_count": 25,
   "id": "e8b9ff39",
   "metadata": {},
   "outputs": [
    {
     "name": "stdout",
     "output_type": "stream",
     "text": [
      "Enter the goal node:-2\n",
      "Enter the maximum depth limit:-1\n",
      "\n",
      "nCurrent level--> 0\n",
      "Goal node testing failed\n",
      "nExpanding the current node A\n",
      "nCurrent level--> 1\n",
      "Goal node testing failed\n",
      "nCurrent level--> 1\n",
      "Goal node testing failed\n",
      "No path available for the goal node in given depth limit\n"
     ]
    }
   ],
   "source": [
    "graph = {\n",
    "'A' : ['B','C'],\n",
    "'B' : ['D', 'E'],\n",
    "'C' : ['F', 'G'],\n",
    "'D' : [],\n",
    "'E' : [],\n",
    "'F' : [],\n",
    "'G' : []\n",
    "}\n",
    "def DLS(start,goal,path,level,maxD):\n",
    "    print('nCurrent level-->',level)\n",
    "    path.append(start)\n",
    "    if start == goal:\n",
    "        print(\"Goal test successful\")\n",
    "        return path\n",
    "    print('Goal node testing failed')\n",
    "    if level==maxD:\n",
    "        return False\n",
    "    print('nExpanding the current node',start)\n",
    "    for child in graph[start]:\n",
    "        if DLS(child,goal,path,level+1,maxD):\n",
    "            return path\n",
    "        path.pop()\n",
    "    return False\n",
    "start = 'A'\n",
    "goal = input('Enter the goal node:-')\n",
    "maxD = int(input(\"Enter the maximum depth limit:-\"))\n",
    "print()\n",
    "path = list()\n",
    "res = DLS(start,goal,path,0,maxD)\n",
    "if(res):\n",
    "    print(\"Path to goal node available\")\n",
    "    print(\"Path\",path)\n",
    "else:\n",
    "    print(\"No path available for the goal node in given depth limit\")"
   ]
  },
  {
   "cell_type": "code",
   "execution_count": 15,
   "id": "8454d46b",
   "metadata": {},
   "outputs": [
    {
     "name": "stdout",
     "output_type": "stream",
     "text": [
      "A\n",
      "B\n",
      "D\n",
      "E\n",
      "C\n",
      "F\n"
     ]
    }
   ],
   "source": [
    "#lt's try to code it\n",
    "graph = {\n",
    "'A' : ['B','C'],\n",
    "'B' : ['D', 'E'],\n",
    "'C' : ['F', 'G'],\n",
    "'D' : [],\n",
    "'E' : [],\n",
    "'F' : [],\n",
    "'G' : []\n",
    "}\n",
    "goal = 'F'\n",
    "visited = set()# use set data structure,unodered collection of items\n",
    "def dfs(visited, graph, node):\n",
    "    if node not in visited:\n",
    "        print (node)\n",
    "        visited.add(node)\n",
    "        for neighbour in graph[node]:\n",
    "            if goal in visited:\n",
    "                break\n",
    "            else:\n",
    "                dfs(visited, graph, neighbour)# recursive function or nested function\n",
    "dfs(visited, graph, 'A')"
   ]
  },
  {
   "cell_type": "code",
   "execution_count": 24,
   "id": "1fc793ee",
   "metadata": {},
   "outputs": [
    {
     "name": "stdout",
     "output_type": "stream",
     "text": [
      "Path exists\n",
      "['A', 'B', 'E']\n"
     ]
    }
   ],
   "source": [
    "graph = {\n",
    "'A' : ['B','C'],\n",
    "'B' : ['D', 'E'],\n",
    "'C' : ['F', 'G'],\n",
    "'D' : [],\n",
    "'E' : [],\n",
    "'F' : [],\n",
    "'G' : []\n",
    "}\n",
    "path = list()\n",
    "def DFS(currentNode,destination,graph,maxDepth,curList):\n",
    "    curList.append(currentNode)\n",
    "    if currentNode==destination:\n",
    "        return True\n",
    "    if maxDepth<=0:\n",
    "        path.append(curList)\n",
    "        return False\n",
    "    for node in graph[currentNode]:\n",
    "        if DFS(node,destination,graph,maxDepth-1,curList):\n",
    "            return True\n",
    "        else:\n",
    "            curList.pop()\n",
    "    return False\n",
    "def iterativeDDFS(currentNode,destination,graph,maxDepth):\n",
    "    for i in range(maxDepth):\n",
    "        curList = list()\n",
    "        if DFS(currentNode,destination,graph,i,curList):\n",
    "            return True\n",
    "    return False\n",
    "if not iterativeDDFS('A','E',graph,3):\n",
    "    print(\"Path is not available\")\n",
    "else:\n",
    "    print(\"Path exists\")\n",
    "    print(path.pop())"
   ]
  },
  {
   "cell_type": "code",
   "execution_count": null,
   "id": "30aa876b",
   "metadata": {},
   "outputs": [],
   "source": []
  }
 ],
 "metadata": {
  "kernelspec": {
   "display_name": "Python 3 (ipykernel)",
   "language": "python",
   "name": "python3"
  },
  "language_info": {
   "codemirror_mode": {
    "name": "ipython",
    "version": 3
   },
   "file_extension": ".py",
   "mimetype": "text/x-python",
   "name": "python",
   "nbconvert_exporter": "python",
   "pygments_lexer": "ipython3",
   "version": "3.9.13"
  }
 },
 "nbformat": 4,
 "nbformat_minor": 5
}
